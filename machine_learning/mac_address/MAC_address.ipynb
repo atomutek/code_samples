{
 "cells": [
  {
   "cell_type": "markdown",
   "metadata": {},
   "source": [
    "# MAC address\n",
    "\n",
    "Predict the category (mobile, desktop) from a device mac address."
   ]
  },
  {
   "cell_type": "code",
   "execution_count": 1,
   "metadata": {
    "collapsed": true
   },
   "outputs": [],
   "source": [
    "## Imports\n",
    "import pandas as pd\n",
    "import numpy as np\n",
    "import matplotlib.pyplot as plt\n",
    "\n",
    "%matplotlib inline"
   ]
  },
  {
   "cell_type": "markdown",
   "metadata": {},
   "source": [
    "## The data"
   ]
  },
  {
   "cell_type": "code",
   "execution_count": 2,
   "metadata": {
    "collapsed": true
   },
   "outputs": [],
   "source": [
    "with open('database.json', 'rb') as f:\n",
    "    lines = f.read()\n",
    "dic = eval(lines)"
   ]
  },
  {
   "cell_type": "markdown",
   "metadata": {},
   "source": [
    "### Inspect the data"
   ]
  },
  {
   "cell_type": "code",
   "execution_count": null,
   "metadata": {},
   "outputs": [],
   "source": [
    "n = 10\n",
    "first_ten_pairs = {k: dic[k] for k in dic.keys()[:10]}"
   ]
  },
  {
   "cell_type": "markdown",
   "metadata": {},
   "source": [
    "### Data processing"
   ]
  },
  {
   "cell_type": "code",
   "execution_count": 4,
   "metadata": {},
   "outputs": [
    {
     "name": "stdout",
     "output_type": "stream",
     "text": [
      "There are 78032 records in the dataset\n"
     ]
    }
   ],
   "source": [
    "# Get into a format usable by pandas\n",
    "data_list = []\n",
    "for k in dic.keys():\n",
    "    for value_list in dic[k]:\n",
    "        row = [k] + value_list\n",
    "        data_list.append(row)\n",
    "        \n",
    "print \"There are %d records in the dataset\" % len(data_list)"
   ]
  },
  {
   "cell_type": "code",
   "execution_count": 5,
   "metadata": {
    "collapsed": true
   },
   "outputs": [],
   "source": [
    "columns=['OUI','mac_hexa','mac_string','OS']\n",
    "df = pd.DataFrame(data_list,columns=columns)"
   ]
  },
  {
   "cell_type": "code",
   "execution_count": 6,
   "metadata": {},
   "outputs": [
    {
     "data": {
      "text/plain": [
       "array(['Android', 'iOS', 'Windows 8', 'Windows 7/Vista', 'Mac OS X',\n",
       "       'Windows', ' Android', 'Debian-based Linux', 'Nexus', ' LP',\n",
       "       'Cisco/Linksys Router', 'Eye-Fi Wireless Memory Card', 'Nokia',\n",
       "       'Samsung Network Printer', 'Generic Linux', 'Linux', 'BlackBerry',\n",
       "       'Xbox 360', ' L.P.', 'Ellipsis 8', 'HP Printer', 'Sony handset',\n",
       "       ' LED.', 'Windows XP', 'Chrome OS'], dtype=object)"
      ]
     },
     "execution_count": 6,
     "metadata": {},
     "output_type": "execute_result"
    }
   ],
   "source": [
    "df.OS.unique()"
   ]
  },
  {
   "cell_type": "markdown",
   "metadata": {},
   "source": [
    "### Clean data\n",
    "\n",
    "With some help from http://standards-oui.ieee.org/oui.txt"
   ]
  },
  {
   "cell_type": "code",
   "execution_count": 7,
   "metadata": {
    "collapsed": true
   },
   "outputs": [],
   "source": [
    "df['category'] = 0\n",
    "df['type'] = df.OS\n",
    "\n",
    "# Mobile category\n",
    "df.loc[df.OS.str.contains('Android'),'category'] = 'mobile'\n",
    "df.loc[df.OS.str.contains('Android'),'type'] = 'Android'\n",
    "\n",
    "df.loc[df.OS.str.contains('iOS'),'category'] = 'mobile'\n",
    "df.loc[df.OS.str.contains('Nokia'),'category'] = 'mobile'\n",
    "df.loc[df.OS.str.contains('Ellipsis 8'),'category'] = 'mobile'\n",
    "df.loc[df.OS.str.contains('BlackBerry'),'category'] = 'mobile'\n",
    "df.loc[df.OS.str.contains('Nexus'),'category'] = 'mobile'\n",
    "df.loc[df.OS.str.contains('Sony handset'),'category'] = 'mobile'\n",
    "\n",
    "# Desktop category\n",
    "df.loc[df.OS.str.contains('Linux'),'category'] = 'desktop'\n",
    "df.loc[df.OS.str.contains('Linux'),'type'] = 'Linux'\n",
    "df.loc[df.OS.str.contains('Windows'),'category'] = 'desktop'\n",
    "df.loc[df.OS.str.contains('Windows'),'type'] = 'Windows'\n",
    "\n",
    "df.loc[df.OS.str.contains('Mac OS'),'category'] = 'desktop'\n",
    "df.loc[df.OS.str.contains('Mac OS'),'type'] = 'MacOS'\n",
    "df.loc[df.OS.str.contains('Xbox 360'),'category'] = 'desktop'\n",
    "df.loc[df.OS.str.contains('Chrome OS'),'category'] = 'desktop'\n",
    "\n",
    "df.loc[df.OS.str.contains('LP'),'category'] = 'desktop'\n",
    "df.loc[df.OS.str.contains(' L.P.'),'category'] = 'desktop'\n",
    "df.loc[df.OS.str.contains('LP'),'type'] = 'LP'\n",
    "df.loc[df.OS.str.contains(' L.P.'),'type'] = 'LP'\n",
    "\n",
    "df.loc[df.OS.str.contains('LED'),'category'] = 'desktop'\n",
    "df.loc[df.OS.str.contains('LED'),'type'] = 'LED'\n",
    "\n",
    "df.loc[df.OS.str.contains('Router'),'category'] = 'desktop'\n",
    "df.loc[df.OS.str.contains('Router'),'type'] = 'Router'\n",
    "df.loc[df.OS.str.contains('Printer'),'category'] = 'desktop'\n",
    "df.loc[df.OS.str.contains('Printer'),'type'] = 'Printer'\n",
    "df.loc[df.OS.str.contains('Eye-Fi Wireless Memory Card'),'category'] = 'desktop'\n",
    "\n",
    "\n",
    "df['output'] = df.apply(lambda x: 0 if x['category'] == 'mobile' else 1,axis=1)\n",
    "\n",
    "df.to_csv('data.csv', index=False)"
   ]
  },
  {
   "cell_type": "code",
   "execution_count": 8,
   "metadata": {},
   "outputs": [
    {
     "data": {
      "text/html": [
       "<div>\n",
       "<style>\n",
       "    .dataframe thead tr:only-child th {\n",
       "        text-align: right;\n",
       "    }\n",
       "\n",
       "    .dataframe thead th {\n",
       "        text-align: left;\n",
       "    }\n",
       "\n",
       "    .dataframe tbody tr th {\n",
       "        vertical-align: top;\n",
       "    }\n",
       "</style>\n",
       "<table border=\"1\" class=\"dataframe\">\n",
       "  <thead>\n",
       "    <tr style=\"text-align: right;\">\n",
       "      <th></th>\n",
       "      <th>OUI</th>\n",
       "      <th>mac_hexa</th>\n",
       "      <th>mac_string</th>\n",
       "      <th>OS</th>\n",
       "      <th>category</th>\n",
       "      <th>type</th>\n",
       "      <th>output</th>\n",
       "    </tr>\n",
       "  </thead>\n",
       "  <tbody>\n",
       "    <tr>\n",
       "      <th>0</th>\n",
       "      <td>f40e22</td>\n",
       "      <td>268341551822999</td>\n",
       "      <td>f40e22dff897</td>\n",
       "      <td>Android</td>\n",
       "      <td>mobile</td>\n",
       "      <td>Android</td>\n",
       "      <td>0</td>\n",
       "    </tr>\n",
       "    <tr>\n",
       "      <th>1</th>\n",
       "      <td>b49cdf</td>\n",
       "      <td>198585860555195</td>\n",
       "      <td>b49cdfad01bb</td>\n",
       "      <td>iOS</td>\n",
       "      <td>mobile</td>\n",
       "      <td>iOS</td>\n",
       "      <td>0</td>\n",
       "    </tr>\n",
       "    <tr>\n",
       "      <th>2</th>\n",
       "      <td>b49cdf</td>\n",
       "      <td>198585862571231</td>\n",
       "      <td>b49cdfcbc4df</td>\n",
       "      <td>iOS</td>\n",
       "      <td>mobile</td>\n",
       "      <td>iOS</td>\n",
       "      <td>0</td>\n",
       "    </tr>\n",
       "    <tr>\n",
       "      <th>3</th>\n",
       "      <td>b49cdf</td>\n",
       "      <td>198585862571275</td>\n",
       "      <td>b49cdfcbc50b</td>\n",
       "      <td>iOS</td>\n",
       "      <td>mobile</td>\n",
       "      <td>iOS</td>\n",
       "      <td>0</td>\n",
       "    </tr>\n",
       "    <tr>\n",
       "      <th>4</th>\n",
       "      <td>80ea96</td>\n",
       "      <td>141745039628824</td>\n",
       "      <td>80ea96bc5a18</td>\n",
       "      <td>iOS</td>\n",
       "      <td>mobile</td>\n",
       "      <td>iOS</td>\n",
       "      <td>0</td>\n",
       "    </tr>\n",
       "  </tbody>\n",
       "</table>\n",
       "</div>"
      ],
      "text/plain": [
       "      OUI         mac_hexa    mac_string       OS category     type  output\n",
       "0  f40e22  268341551822999  f40e22dff897  Android   mobile  Android       0\n",
       "1  b49cdf  198585860555195  b49cdfad01bb      iOS   mobile      iOS       0\n",
       "2  b49cdf  198585862571231  b49cdfcbc4df      iOS   mobile      iOS       0\n",
       "3  b49cdf  198585862571275  b49cdfcbc50b      iOS   mobile      iOS       0\n",
       "4  80ea96  141745039628824  80ea96bc5a18      iOS   mobile      iOS       0"
      ]
     },
     "execution_count": 8,
     "metadata": {},
     "output_type": "execute_result"
    }
   ],
   "source": [
    "df.head()"
   ]
  },
  {
   "cell_type": "markdown",
   "metadata": {},
   "source": [
    "## Balance of the dataset\n",
    "\n",
    "If the dataset is unbalanced, the model won't perform well on real-world data."
   ]
  },
  {
   "cell_type": "code",
   "execution_count": 9,
   "metadata": {
    "collapsed": true
   },
   "outputs": [],
   "source": [
    "mobile = df.loc[df['output'] == 0,'output'].value_counts()\n",
    "desktop = df.loc[df['output'] == 1,'output'].value_counts()\n",
    "total = mobile.values[0]+desktop.values[0]"
   ]
  },
  {
   "cell_type": "code",
   "execution_count": 10,
   "metadata": {},
   "outputs": [
    {
     "data": {
      "image/png": "[encoded data removed]",
      "text/plain": [
       "<matplotlib.figure.Figure at 0x105c47210>"
      ]
     },
     "metadata": {},
     "output_type": "display_data"
    },
    {
     "name": "stdout",
     "output_type": "stream",
     "text": [
      "The dataset consists of 99.20% of mobile and 0.80% of desktop.\n"
     ]
    }
   ],
   "source": [
    "fig = plt.figure(figsize=(10, 5))\n",
    "ax = fig.add_subplot(111)\n",
    "mobile_series = df.loc[df['output'] == 0,'output']\n",
    "desktop_series = df.loc[df['output'] == 1,'output']\n",
    "plt.hist(mobile_series,label='Mobile', weights=np.zeros_like(mobile_series) + 1. / total *100 )\n",
    "plt.hist(desktop_series,label='Desktop', weights=np.zeros_like(desktop_series) + 1. / total *100 )\n",
    "ax.axes.get_xaxis().set_visible(False)\n",
    "plt.legend()\n",
    "plt.show()\n",
    "\n",
    "print \"The dataset consists of %.2f%% of mobile and %.2f%% of desktop.\" % (mobile.values[0]/float(total)*100, desktop.values[0]/float(total)*100)"
   ]
  },
  {
   "cell_type": "code",
   "execution_count": 11,
   "metadata": {},
   "outputs": [
    {
     "data": {
      "text/plain": [
       "Android                        96.889738\n",
       "iOS                             2.170904\n",
       "MacOS                           0.363953\n",
       "Windows                         0.356264\n",
       "Nexus                           0.129434\n",
       "Linux                           0.055106\n",
       "LED                             0.006408\n",
       "Nokia                           0.005126\n",
       "Router                          0.003845\n",
       "Ellipsis 8                      0.003845\n",
       "Printer                         0.003845\n",
       "LP                              0.002563\n",
       "Xbox 360                        0.002563\n",
       "BlackBerry                      0.002563\n",
       "Chrome OS                       0.001282\n",
       "Sony handset                    0.001282\n",
       "Eye-Fi Wireless Memory Card     0.001282\n",
       "Name: type, dtype: float64"
      ]
     },
     "execution_count": 11,
     "metadata": {},
     "output_type": "execute_result"
    }
   ],
   "source": [
    "df.type.value_counts()/df.shape[0]*100"
   ]
  },
  {
   "cell_type": "markdown",
   "metadata": {},
   "source": [
    "### Conclusion\n",
    "The data is clearly unbalanced. We need to tweak the dataset to be able to predict something useful.\n",
    "\n",
    "Two possibilities:\n",
    "- since the OUI is manufacturer-independent and only a few manufacturers have mobile and desktop devices, concentrate on dual category manufacturers\n",
    "    - Pro: will perform well on the dual category manufacturers OUI\n",
    "    - Con: won't be able to generalize from other manufacturers OUI\n",
    "- rebalance the dataset by add weight to classes:\n",
    "    - Pro: will model all the OUI in the dataset\n",
    "    - Con: might take more times to model"
   ]
  },
  {
   "cell_type": "markdown",
   "metadata": {},
   "source": [
    "## 1. First model: dual categories manufacturers"
   ]
  },
  {
   "cell_type": "markdown",
   "metadata": {},
   "source": [
    "### OUI with several categories"
   ]
  },
  {
   "cell_type": "code",
   "execution_count": 12,
   "metadata": {},
   "outputs": [
    {
     "name": "stdout",
     "output_type": "stream",
     "text": [
      "['1040f3', '24f094', '2cf0ee', '34363b', '3c15c2', '48bf6b', '48d705', '4c3275', '600308', '60128b', '60c547', '60f81d', '6476ba', '6c4008', '7831c1', '784f43', '7c04d0', '80e650', '843835', '8c2937', '90fd61', '9801a7', '98e0d9', '98fe94', 'a0999b', 'a45e60', 'a8667f', 'ac293a', 'acbc32', 'b8e856', 'c4b301', 'd0a637', 'e0accb', 'e4ce8f', 'f07960', 'f40f24', 'f45c89']\n"
     ]
    }
   ],
   "source": [
    "s_df = df.groupby('OUI').agg(lambda x: set(x))['category']\n",
    "\n",
    "shared_cat = []\n",
    "for key in s_df.keys():\n",
    "    if len(s_df[key]) > 1:\n",
    "        shared_cat.append(key)\n",
    "print shared_cat"
   ]
  },
  {
   "cell_type": "code",
   "execution_count": null,
   "metadata": {},
   "outputs": [],
   "source": [
    "df_shared_cat = df[df['OUI'].isin(shared_cat)]\n",
    "df_shared_cat.head()"
   ]
  },
  {
   "cell_type": "code",
   "execution_count": 14,
   "metadata": {
    "collapsed": true
   },
   "outputs": [],
   "source": [
    "mobile = df_shared_cat.loc[df_shared_cat['output'] == 0,'output'].value_counts()\n",
    "desktop = df_shared_cat.loc[df_shared_cat['output'] == 1,'output'].value_counts()\n",
    "total = mobile.values[0]+desktop.values[0]"
   ]
  },
  {
   "cell_type": "code",
   "execution_count": 15,
   "metadata": {},
   "outputs": [
    {
     "data": {
      "image/png": "[encoded data removed]",
      "text/plain": [
       "<matplotlib.figure.Figure at 0x106819350>"
      ]
     },
     "metadata": {},
     "output_type": "display_data"
    },
    {
     "name": "stdout",
     "output_type": "stream",
     "text": [
      "The dataset consists of 40.06% of mobile and 59.94% of desktop.\n"
     ]
    }
   ],
   "source": [
    "fig = plt.figure(figsize=(10, 5))\n",
    "ax = fig.add_subplot(111)\n",
    "mobile_series = df_shared_cat.loc[df['output'] == 0,'output']\n",
    "desktop_series = df_shared_cat.loc[df['output'] == 1,'output']\n",
    "plt.hist(mobile_series,label='Mobile', weights=np.zeros_like(mobile_series) + 1. / total *100 )\n",
    "plt.hist(desktop_series,label='Desktop', weights=np.zeros_like(desktop_series) + 1. / total *100 )\n",
    "ax.axes.get_xaxis().set_visible(False)\n",
    "plt.legend()\n",
    "plt.show()\n",
    "\n",
    "print \"The dataset consists of %.2f%% of mobile and %.2f%% of desktop.\" % (mobile.values[0]/float(total)*100, desktop.values[0]/float(total)*100)"
   ]
  },
  {
   "cell_type": "markdown",
   "metadata": {},
   "source": [
    "## Features"
   ]
  },
  {
   "cell_type": "code",
   "execution_count": 16,
   "metadata": {
    "collapsed": true
   },
   "outputs": [],
   "source": [
    "df_ml = df_shared_cat.copy()"
   ]
  },
  {
   "cell_type": "code",
   "execution_count": 17,
   "metadata": {
    "collapsed": true
   },
   "outputs": [],
   "source": [
    "df_ml['oui_dec'] = df_ml.apply(lambda x: int(x['OUI'],16),axis=1)\n",
    "df_ml['mac_wo_oui'] = df_ml.apply(lambda x: int(x['mac_string'][6:],16),axis=1)\n",
    "df_ml['mac_wo_oui_1'] = df_ml.apply(lambda x: int(x['mac_string'][6:8],16),axis=1)\n",
    "df_ml['mac_wo_oui_2'] = df_ml.apply(lambda x: int(x['mac_string'][8:10],16),axis=1)\n",
    "df_ml['mac_wo_oui_3'] = df_ml.apply(lambda x: int(x['mac_string'][10:12],16),axis=1)"
   ]
  },
  {
   "cell_type": "code",
   "execution_count": null,
   "metadata": {},
   "outputs": [],
   "source": [
    "df_ml.tail()"
   ]
  },
  {
   "cell_type": "markdown",
   "metadata": {},
   "source": [
    "# Model"
   ]
  },
  {
   "cell_type": "code",
   "execution_count": 19,
   "metadata": {
    "collapsed": true
   },
   "outputs": [],
   "source": [
    "# split data into X and y\n",
    "x_train = pd.DataFrame()\n",
    "x_train['oui_dec'] = df_ml['oui_dec']\n",
    "x_train['mac_hexa'] = df_ml['mac_hexa']\n",
    "x_train['mac_wo_oui'] = df_ml['mac_wo_oui']\n",
    "x_train['mac_wo_oui_1'] = df_ml['mac_wo_oui_1']\n",
    "x_train['mac_wo_oui_2'] = df_ml['mac_wo_oui_2']\n",
    "x_train['mac_wo_oui_3'] = df_ml['mac_wo_oui_3']\n",
    "\n",
    "y_train = df_ml['output'].values"
   ]
  },
  {
   "cell_type": "code",
   "execution_count": 20,
   "metadata": {},
   "outputs": [
    {
     "name": "stdout",
     "output_type": "stream",
     "text": [
      "Total number of positive train instances: 147\n",
      "Total number of positive test instances: 67\n"
     ]
    }
   ],
   "source": [
    "from sklearn.model_selection import train_test_split\n",
    "from sklearn.metrics import accuracy_score, precision_score, recall_score\n",
    "\n",
    "# Split data into train and test sets\n",
    "seed = 7\n",
    "test_size = 0.33\n",
    "\n",
    "x_train_set, x_test_set, y_train_set, y_test_set = train_test_split(\n",
    "    x_train, y_train, test_size=test_size, random_state=seed)\n",
    "\n",
    "print('Total number of positive train instances: {}'.format(y_train_set.sum()))\n",
    "print('Total number of positive test instances: {}'.format(y_test_set.sum()))\n",
    "\n",
    "# Model parameter\n",
    "params = {}\n",
    "params['objective'] = 'binary:logistic' # binary output\n",
    "params['eval_metric'] = 'logloss' # validation metrics\n",
    "params['eta'] = 0.04 # learning rate, default 0.03\n",
    "params['max_depth'] = 3 # Less over-fitting, default = 6"
   ]
  },
  {
   "cell_type": "code",
   "execution_count": 21,
   "metadata": {},
   "outputs": [
    {
     "name": "stdout",
     "output_type": "stream",
     "text": [
      "[0]\teval-logloss:0.68464\ttrain-logloss:0.681757\n"
     ]
    },
    {
     "name": "stderr",
     "output_type": "stream",
     "text": [
      "/Users/matt/.virtualenvs/quora/lib/python2.7/site-packages/sklearn/cross_validation.py:44: DeprecationWarning: This module was deprecated in version 0.18 in favor of the model_selection module into which all the refactored classes and functions are moved. Also note that the interface of the new CV iterators are different from that of this module. This module will be removed in 0.20.\n",
      "  \"This module will be removed in 0.20.\", DeprecationWarning)\n"
     ]
    },
    {
     "name": "stdout",
     "output_type": "stream",
     "text": [
      "[1000]\teval-logloss:0.588023\ttrain-logloss:0.150374\n",
      "[2000]\teval-logloss:0.697925\ttrain-logloss:0.070733\n",
      "[3000]\teval-logloss:0.767437\ttrain-logloss:0.050269\n",
      "[4000]\teval-logloss:0.799437\ttrain-logloss:0.043557\n",
      "[5000]\teval-logloss:0.816715\ttrain-logloss:0.039452\n"
     ]
    }
   ],
   "source": [
    "import xgboost as xgb\n",
    "\n",
    "d_train = xgb.DMatrix(x_train_set, label=y_train_set)\n",
    "d_test = xgb.DMatrix(x_test_set, label=y_test_set)\n",
    "\n",
    "watchlist  = [(d_test,'eval'), (d_train,'train')]\n",
    "num_round = 5001\n",
    "bst = xgb.train(params, d_train, num_round, watchlist, verbose_eval=1000)\n",
    "\n",
    "bst.save_model('xgb_model_dual_cat.mdl')"
   ]
  },
  {
   "cell_type": "code",
   "execution_count": 22,
   "metadata": {},
   "outputs": [
    {
     "data": {
      "text/html": [
       "<div>\n",
       "<style>\n",
       "    .dataframe thead tr:only-child th {\n",
       "        text-align: right;\n",
       "    }\n",
       "\n",
       "    .dataframe thead th {\n",
       "        text-align: left;\n",
       "    }\n",
       "\n",
       "    .dataframe tbody tr th {\n",
       "        vertical-align: top;\n",
       "    }\n",
       "</style>\n",
       "<table border=\"1\" class=\"dataframe\">\n",
       "  <thead>\n",
       "    <tr style=\"text-align: right;\">\n",
       "      <th>Predicted</th>\n",
       "      <th>0</th>\n",
       "      <th>1</th>\n",
       "      <th>All</th>\n",
       "    </tr>\n",
       "    <tr>\n",
       "      <th>Actual</th>\n",
       "      <th></th>\n",
       "      <th></th>\n",
       "      <th></th>\n",
       "    </tr>\n",
       "  </thead>\n",
       "  <tbody>\n",
       "    <tr>\n",
       "      <th>0</th>\n",
       "      <td>32</td>\n",
       "      <td>19</td>\n",
       "      <td>51</td>\n",
       "    </tr>\n",
       "    <tr>\n",
       "      <th>1</th>\n",
       "      <td>16</td>\n",
       "      <td>51</td>\n",
       "      <td>67</td>\n",
       "    </tr>\n",
       "    <tr>\n",
       "      <th>All</th>\n",
       "      <td>48</td>\n",
       "      <td>70</td>\n",
       "      <td>118</td>\n",
       "    </tr>\n",
       "  </tbody>\n",
       "</table>\n",
       "</div>"
      ],
      "text/plain": [
       "Predicted   0   1  All\n",
       "Actual                \n",
       "0          32  19   51\n",
       "1          16  51   67\n",
       "All        48  70  118"
      ]
     },
     "execution_count": 22,
     "metadata": {},
     "output_type": "execute_result"
    }
   ],
   "source": [
    "y_test_preds = (bst.predict(d_test) > 0.5).astype('int')\n",
    "\n",
    "pd.crosstab(\n",
    "    pd.Series(y_test_set, name='Actual'),\n",
    "    pd.Series(y_test_preds, name='Predicted'),\n",
    "    margins=True\n",
    ")"
   ]
  },
  {
   "cell_type": "code",
   "execution_count": 23,
   "metadata": {},
   "outputs": [
    {
     "name": "stdout",
     "output_type": "stream",
     "text": [
      "Accuracy: 0.70\n",
      "Precision: 0.73\n",
      "Recall: 0.76\n"
     ]
    }
   ],
   "source": [
    "print('Accuracy: {0:.2f}'.format(accuracy_score(y_test_set, y_test_preds)))\n",
    "print('Precision: {0:.2f}'.format(precision_score(y_test_set, y_test_preds)))\n",
    "print('Recall: {0:.2f}'.format(recall_score(y_test_set, y_test_preds)))"
   ]
  },
  {
   "cell_type": "code",
   "execution_count": 24,
   "metadata": {},
   "outputs": [
    {
     "data": {
      "text/plain": [
       "<matplotlib.axes._subplots.AxesSubplot at 0x105c28c90>"
      ]
     },
     "execution_count": 24,
     "metadata": {},
     "output_type": "execute_result"
    },
    {
     "data": {
      "image/png": "[encoded data removed]",
      "text/plain": [
       "<matplotlib.figure.Figure at 0x10a396c90>"
      ]
     },
     "metadata": {},
     "output_type": "display_data"
    }
   ],
   "source": [
    "xgb.plot_importance(bst)"
   ]
  },
  {
   "cell_type": "markdown",
   "metadata": {},
   "source": [
    "## Test with new data"
   ]
  },
  {
   "cell_type": "markdown",
   "metadata": {},
   "source": [
    "### Small dataset"
   ]
  },
  {
   "cell_type": "code",
   "execution_count": null,
   "metadata": {},
   "outputs": [],
   "source": [
    "df_test = pd.read_csv('test_data.csv').fillna(\"\")\n",
    "df_test"
   ]
  },
  {
   "cell_type": "code",
   "execution_count": 26,
   "metadata": {
    "collapsed": true
   },
   "outputs": [],
   "source": [
    "x_test = pd.DataFrame()\n",
    "x_test['oui_dec'] = df_test.apply(lambda x: int(x['OUI'],16),axis=1)\n",
    "x_test['mac_hexa'] = df_test['mac_hexa']\n",
    "x_test['mac_wo_oui'] = df_test.apply(lambda x: int(x['mac_string'][6:],16),axis=1)\n",
    "x_test['mac_wo_oui_1'] = df_test.apply(lambda x: int(x['mac_string'][6:8],16),axis=1)\n",
    "x_test['mac_wo_oui_2'] = df_test.apply(lambda x: int(x['mac_string'][8:10],16),axis=1)\n",
    "x_test['mac_wo_oui_3'] = df_test.apply(lambda x: int(x['mac_string'][10:12],16),axis=1)"
   ]
  },
  {
   "cell_type": "code",
   "execution_count": 27,
   "metadata": {
    "collapsed": true
   },
   "outputs": [],
   "source": [
    "bst = xgb.Booster(params)\n",
    "bst.load_model('xgb_model.mdl')\n",
    "\n",
    "d_test = xgb.DMatrix(x_test)\n",
    "p_test = bst.predict(d_test)"
   ]
  },
  {
   "cell_type": "code",
   "execution_count": 28,
   "metadata": {},
   "outputs": [
    {
     "name": "stdout",
     "output_type": "stream",
     "text": [
      "The accuracy of the prediction is 100.00%\n"
     ]
    }
   ],
   "source": [
    "final = pd.DataFrame()\n",
    "final['OS'] = df_test['OS']\n",
    "final['category'] = df_test['category']\n",
    "final['predicted_output'] = ['desktop' if x > 0.5 else 'mobile' for x in p_test ]\n",
    "final['correct'] = final.apply(lambda x: x['category'] == x['predicted_output'],axis=1)\n",
    "accuracy = final['correct'].value_counts()[True]/(float(final.shape[0]))*100\n",
    "\n",
    "print \"The accuracy of the prediction is %.2f%%\" % accuracy"
   ]
  },
  {
   "cell_type": "code",
   "execution_count": 29,
   "metadata": {},
   "outputs": [
    {
     "data": {
      "text/html": [
       "<div>\n",
       "<style>\n",
       "    .dataframe thead tr:only-child th {\n",
       "        text-align: right;\n",
       "    }\n",
       "\n",
       "    .dataframe thead th {\n",
       "        text-align: left;\n",
       "    }\n",
       "\n",
       "    .dataframe tbody tr th {\n",
       "        vertical-align: top;\n",
       "    }\n",
       "</style>\n",
       "<table border=\"1\" class=\"dataframe\">\n",
       "  <thead>\n",
       "    <tr style=\"text-align: right;\">\n",
       "      <th></th>\n",
       "      <th>OS</th>\n",
       "      <th>category</th>\n",
       "      <th>predicted_output</th>\n",
       "      <th>correct</th>\n",
       "    </tr>\n",
       "  </thead>\n",
       "  <tbody>\n",
       "    <tr>\n",
       "      <th>0</th>\n",
       "      <td>Mac OS</td>\n",
       "      <td>desktop</td>\n",
       "      <td>desktop</td>\n",
       "      <td>True</td>\n",
       "    </tr>\n",
       "    <tr>\n",
       "      <th>1</th>\n",
       "      <td>iOS</td>\n",
       "      <td>mobile</td>\n",
       "      <td>mobile</td>\n",
       "      <td>True</td>\n",
       "    </tr>\n",
       "    <tr>\n",
       "      <th>2</th>\n",
       "      <td>Linux</td>\n",
       "      <td>desktop</td>\n",
       "      <td>desktop</td>\n",
       "      <td>True</td>\n",
       "    </tr>\n",
       "    <tr>\n",
       "      <th>3</th>\n",
       "      <td>Mac OS</td>\n",
       "      <td>desktop</td>\n",
       "      <td>desktop</td>\n",
       "      <td>True</td>\n",
       "    </tr>\n",
       "    <tr>\n",
       "      <th>4</th>\n",
       "      <td>iOS</td>\n",
       "      <td>mobile</td>\n",
       "      <td>mobile</td>\n",
       "      <td>True</td>\n",
       "    </tr>\n",
       "    <tr>\n",
       "      <th>5</th>\n",
       "      <td>iOS</td>\n",
       "      <td>mobile</td>\n",
       "      <td>mobile</td>\n",
       "      <td>True</td>\n",
       "    </tr>\n",
       "    <tr>\n",
       "      <th>6</th>\n",
       "      <td>Android</td>\n",
       "      <td>mobile</td>\n",
       "      <td>mobile</td>\n",
       "      <td>True</td>\n",
       "    </tr>\n",
       "  </tbody>\n",
       "</table>\n",
       "</div>"
      ],
      "text/plain": [
       "        OS category predicted_output  correct\n",
       "0   Mac OS  desktop          desktop     True\n",
       "1      iOS   mobile           mobile     True\n",
       "2    Linux  desktop          desktop     True\n",
       "3   Mac OS  desktop          desktop     True\n",
       "4      iOS   mobile           mobile     True\n",
       "5      iOS   mobile           mobile     True\n",
       "6  Android   mobile           mobile     True"
      ]
     },
     "execution_count": 29,
     "metadata": {},
     "output_type": "execute_result"
    }
   ],
   "source": [
    "final"
   ]
  },
  {
   "cell_type": "markdown",
   "metadata": {},
   "source": [
    "We can see that the classifier performed well on our self-gathered dataset. \n",
    "Let's try on non dual dataset to see if the model generalizes or not."
   ]
  },
  {
   "cell_type": "markdown",
   "metadata": {},
   "source": [
    "### Larger dataset"
   ]
  },
  {
   "cell_type": "code",
   "execution_count": 30,
   "metadata": {
    "collapsed": true
   },
   "outputs": [],
   "source": [
    "# Gather samples from non-dual manufacturers\n",
    "df_tmp = df[~df['OUI'].isin(shared_cat)]\n",
    "df_tmp.head()\n",
    "\n",
    "df_tmp_pos = df_tmp[df_tmp['output'] == 1].sample(frac=0.3, replace=False)\n",
    "df_tmp_neg = df_tmp[df_tmp['output'] == 0].sample(frac=0.008, replace=False)\n",
    "\n",
    "df_large = pd.concat([df_tmp_pos, df_tmp_neg], ignore_index=True)\n",
    "df_large.head()\n",
    "\n",
    "df_large = df_tmp.copy()"
   ]
  },
  {
   "cell_type": "code",
   "execution_count": 31,
   "metadata": {
    "collapsed": true
   },
   "outputs": [],
   "source": [
    "x_test = pd.DataFrame()\n",
    "x_test['oui_dec'] = df_large.apply(lambda x: int(x['OUI'],16),axis=1)\n",
    "x_test['mac_hexa'] = df_large['mac_hexa']\n",
    "x_test['mac_wo_oui'] = df_large.apply(lambda x: int(x['mac_string'][6:],16),axis=1)\n",
    "x_test['mac_wo_oui_1'] = df_large.apply(lambda x: int(x['mac_string'][6:8],16),axis=1)\n",
    "x_test['mac_wo_oui_2'] = df_large.apply(lambda x: int(x['mac_string'][8:10],16),axis=1)\n",
    "x_test['mac_wo_oui_3'] = df_large.apply(lambda x: int(x['mac_string'][10:12],16),axis=1)"
   ]
  },
  {
   "cell_type": "code",
   "execution_count": 32,
   "metadata": {
    "collapsed": true
   },
   "outputs": [],
   "source": [
    "bst = xgb.Booster(params)\n",
    "bst.load_model('xgb_model_dual_cat.mdl')\n",
    "\n",
    "d_test = xgb.DMatrix(x_test)\n",
    "p_test = bst.predict(d_test)"
   ]
  },
  {
   "cell_type": "code",
   "execution_count": 33,
   "metadata": {},
   "outputs": [
    {
     "name": "stdout",
     "output_type": "stream",
     "text": [
      "The accuracy of the prediction is 31.53%\n"
     ]
    }
   ],
   "source": [
    "final = pd.DataFrame()\n",
    "final['OS'] = df_large['OS']\n",
    "final['category'] = df_large['category']\n",
    "final['predicted_output'] = ['desktop' if x > 0.5 else 'mobile' for x in p_test ]\n",
    "final['correct'] = final.apply(lambda x: x['category'] == x['predicted_output'],axis=1)\n",
    "accuracy = final['correct'].value_counts()[True]/(float(final.shape[0]))*100\n",
    "\n",
    "print \"The accuracy of the prediction is %.2f%%\" % accuracy "
   ]
  },
  {
   "cell_type": "markdown",
   "metadata": {},
   "source": [
    "### Conclusion\n",
    "\n",
    "The model doesn't perform well on the non-dual manufacturers dataset. \n",
    "The reason why the it performed well on the self-gathered dataset is because it is made up of mostly Apple devices which make most of the model train samples."
   ]
  },
  {
   "cell_type": "markdown",
   "metadata": {},
   "source": [
    "## 2. Second model: Rebalance the dataset\n",
    "\n",
    "By add weight to classes, the model will be more balanced and be able to learn efficiently about the classes."
   ]
  },
  {
   "cell_type": "code",
   "execution_count": 34,
   "metadata": {
    "collapsed": true
   },
   "outputs": [],
   "source": [
    "df_ml = df.copy()"
   ]
  },
  {
   "cell_type": "code",
   "execution_count": 35,
   "metadata": {
    "collapsed": true
   },
   "outputs": [],
   "source": [
    "df_ml['oui_dec'] = df_ml.apply(lambda x: int(x['OUI'],16),axis=1)\n",
    "df_ml['mac_wo_oui'] = df_ml.apply(lambda x: int(x['mac_string'][6:],16),axis=1)\n",
    "df_ml['mac_wo_oui_1'] = df_ml.apply(lambda x: int(x['mac_string'][6:8],16),axis=1)\n",
    "df_ml['mac_wo_oui_2'] = df_ml.apply(lambda x: int(x['mac_string'][8:10],16),axis=1)\n",
    "df_ml['mac_wo_oui_3'] = df_ml.apply(lambda x: int(x['mac_string'][10:12],16),axis=1)"
   ]
  },
  {
   "cell_type": "code",
   "execution_count": 36,
   "metadata": {
    "collapsed": true
   },
   "outputs": [],
   "source": [
    "# split data into X and y\n",
    "x_train = pd.DataFrame()\n",
    "x_train['oui_dec'] = df_ml['oui_dec']\n",
    "x_train['mac_hexa'] = df_ml['mac_hexa']\n",
    "x_train['mac_wo_oui'] = df_ml['mac_wo_oui']\n",
    "x_train['mac_wo_oui_1'] = df_ml['mac_wo_oui_1']\n",
    "x_train['mac_wo_oui_2'] = df_ml['mac_wo_oui_2']\n",
    "x_train['mac_wo_oui_3'] = df_ml['mac_wo_oui_3']\n",
    "\n",
    "y_train = df_ml['output'].values"
   ]
  },
  {
   "cell_type": "code",
   "execution_count": 37,
   "metadata": {},
   "outputs": [
    {
     "name": "stdout",
     "output_type": "stream",
     "text": [
      "Total number of positive train instances: 408\n",
      "Total number of positive test instances: 214\n"
     ]
    }
   ],
   "source": [
    "# Split data into train and test sets\n",
    "seed = 7\n",
    "test_size = 0.33\n",
    "\n",
    "x_train_set, x_test_set, y_train_set, y_test_set = train_test_split(\n",
    "    x_train, y_train, test_size=test_size, random_state=seed)\n",
    "\n",
    "print('Total number of positive train instances: {}'.format(y_train_set.sum()))\n",
    "print('Total number of positive test instances: {}'.format(y_test_set.sum()))\n",
    "\n",
    "# Model parameter\n",
    "params = {}\n",
    "params['objective'] = 'binary:logistic' # binary output\n",
    "params['eval_metric'] = 'logloss' # validation metrics\n",
    "params['eta'] = 0.04 # learning rate, default 0.03\n",
    "params['max_depth'] = 3 # Less over-fitting, default = 6"
   ]
  },
  {
   "cell_type": "code",
   "execution_count": 38,
   "metadata": {
    "collapsed": true
   },
   "outputs": [],
   "source": [
    "d_train = xgb.DMatrix(x_train_set, label=y_train_set)\n",
    "d_test = xgb.DMatrix(x_test_set, label=y_test_set)\n",
    "\n",
    "train_labels = d_train.get_label()\n",
    "\n",
    "ratio = float(np.sum(train_labels == 0)) / np.sum(train_labels == 1)\n",
    "params['scale_pos_weight'] = ratio"
   ]
  },
  {
   "cell_type": "code",
   "execution_count": 39,
   "metadata": {},
   "outputs": [
    {
     "name": "stdout",
     "output_type": "stream",
     "text": [
      "[0]\teval-logloss:0.674448\ttrain-logloss:0.674425\n",
      "[1000]\teval-logloss:0.075236\ttrain-logloss:0.072498\n",
      "[2000]\teval-logloss:0.053974\ttrain-logloss:0.047801\n",
      "[3000]\teval-logloss:0.04618\ttrain-logloss:0.038416\n",
      "[4000]\teval-logloss:0.042799\ttrain-logloss:0.034371\n",
      "[5000]\teval-logloss:0.041537\ttrain-logloss:0.032124\n"
     ]
    }
   ],
   "source": [
    "watchlist  = [(d_test,'eval'), (d_train,'train')]\n",
    "num_round = 5001\n",
    "bst = xgb.train(params, d_train, num_round, watchlist, verbose_eval=1000)\n",
    "\n",
    "bst.save_model('xgb_model_unbalanced.mdl')"
   ]
  },
  {
   "cell_type": "code",
   "execution_count": 40,
   "metadata": {},
   "outputs": [
    {
     "data": {
      "text/html": [
       "<div>\n",
       "<style>\n",
       "    .dataframe thead tr:only-child th {\n",
       "        text-align: right;\n",
       "    }\n",
       "\n",
       "    .dataframe thead th {\n",
       "        text-align: left;\n",
       "    }\n",
       "\n",
       "    .dataframe tbody tr th {\n",
       "        vertical-align: top;\n",
       "    }\n",
       "</style>\n",
       "<table border=\"1\" class=\"dataframe\">\n",
       "  <thead>\n",
       "    <tr style=\"text-align: right;\">\n",
       "      <th>Predicted</th>\n",
       "      <th>0</th>\n",
       "      <th>1</th>\n",
       "      <th>All</th>\n",
       "    </tr>\n",
       "    <tr>\n",
       "      <th>Actual</th>\n",
       "      <th></th>\n",
       "      <th></th>\n",
       "      <th></th>\n",
       "    </tr>\n",
       "  </thead>\n",
       "  <tbody>\n",
       "    <tr>\n",
       "      <th>0</th>\n",
       "      <td>25269</td>\n",
       "      <td>268</td>\n",
       "      <td>25537</td>\n",
       "    </tr>\n",
       "    <tr>\n",
       "      <th>1</th>\n",
       "      <td>38</td>\n",
       "      <td>176</td>\n",
       "      <td>214</td>\n",
       "    </tr>\n",
       "    <tr>\n",
       "      <th>All</th>\n",
       "      <td>25307</td>\n",
       "      <td>444</td>\n",
       "      <td>25751</td>\n",
       "    </tr>\n",
       "  </tbody>\n",
       "</table>\n",
       "</div>"
      ],
      "text/plain": [
       "Predicted      0    1    All\n",
       "Actual                      \n",
       "0          25269  268  25537\n",
       "1             38  176    214\n",
       "All        25307  444  25751"
      ]
     },
     "execution_count": 40,
     "metadata": {},
     "output_type": "execute_result"
    }
   ],
   "source": [
    "y_test_preds = (bst.predict(d_test) > 0.5).astype('int')\n",
    "\n",
    "pd.crosstab(\n",
    "    pd.Series(y_test_set, name='Actual'),\n",
    "    pd.Series(y_test_preds, name='Predicted'),\n",
    "    margins=True\n",
    ")"
   ]
  },
  {
   "cell_type": "code",
   "execution_count": 41,
   "metadata": {},
   "outputs": [
    {
     "name": "stdout",
     "output_type": "stream",
     "text": [
      "Accuracy: 0.99\n",
      "Precision: 0.40\n",
      "Recall: 0.82\n"
     ]
    }
   ],
   "source": [
    "print('Accuracy: {0:.2f}'.format(accuracy_score(y_test_set, y_test_preds)))\n",
    "print('Precision: {0:.2f}'.format(precision_score(y_test_set, y_test_preds)))\n",
    "print('Recall: {0:.2f}'.format(recall_score(y_test_set, y_test_preds)))"
   ]
  },
  {
   "cell_type": "markdown",
   "metadata": {},
   "source": [
    "Using weight to rebalance the model seems to pay off."
   ]
  },
  {
   "cell_type": "markdown",
   "metadata": {},
   "source": [
    "## Small dataset"
   ]
  },
  {
   "cell_type": "code",
   "execution_count": 42,
   "metadata": {
    "collapsed": true
   },
   "outputs": [],
   "source": [
    "df_test = pd.read_csv('test_data.csv').fillna(\"\")\n",
    "x_test = pd.DataFrame()\n",
    "\n",
    "x_test['oui_dec'] = df_test.apply(lambda x: int(x['OUI'],16),axis=1)\n",
    "x_test['mac_hexa'] = df_test['mac_hexa']\n",
    "x_test['mac_wo_oui'] = df_test.apply(lambda x: int(x['mac_string'][6:],16),axis=1)\n",
    "x_test['mac_wo_oui_1'] = df_test.apply(lambda x: int(x['mac_string'][6:8],16),axis=1)\n",
    "x_test['mac_wo_oui_2'] = df_test.apply(lambda x: int(x['mac_string'][8:10],16),axis=1)\n",
    "x_test['mac_wo_oui_3'] = df_test.apply(lambda x: int(x['mac_string'][10:12],16),axis=1)\n",
    "\n",
    "bst = xgb.Booster(params)\n",
    "bst.load_model('xgb_model.mdl')\n",
    "\n",
    "d_test = xgb.DMatrix(x_test)\n",
    "p_test = bst.predict(d_test)"
   ]
  },
  {
   "cell_type": "code",
   "execution_count": 43,
   "metadata": {},
   "outputs": [
    {
     "name": "stdout",
     "output_type": "stream",
     "text": [
      "The accuracy of the prediction is 100.00%\n"
     ]
    }
   ],
   "source": [
    "final = pd.DataFrame()\n",
    "final['OS'] = df_test['OS']\n",
    "final['category'] = df_test['category']\n",
    "final['predicted_output'] = ['desktop' if x > 0.5 else 'mobile' for x in p_test ]\n",
    "final['correct'] = final.apply(lambda x: x['category'] == x['predicted_output'],axis=1)\n",
    "accuracy = final['correct'].value_counts()[True]/(float(final.shape[0]))*100\n",
    "\n",
    "print \"The accuracy of the prediction is %.2f%%\" % accuracy"
   ]
  },
  {
   "cell_type": "code",
   "execution_count": 44,
   "metadata": {},
   "outputs": [
    {
     "data": {
      "text/html": [
       "<div>\n",
       "<style>\n",
       "    .dataframe thead tr:only-child th {\n",
       "        text-align: right;\n",
       "    }\n",
       "\n",
       "    .dataframe thead th {\n",
       "        text-align: left;\n",
       "    }\n",
       "\n",
       "    .dataframe tbody tr th {\n",
       "        vertical-align: top;\n",
       "    }\n",
       "</style>\n",
       "<table border=\"1\" class=\"dataframe\">\n",
       "  <thead>\n",
       "    <tr style=\"text-align: right;\">\n",
       "      <th></th>\n",
       "      <th>OS</th>\n",
       "      <th>category</th>\n",
       "      <th>predicted_output</th>\n",
       "      <th>correct</th>\n",
       "    </tr>\n",
       "  </thead>\n",
       "  <tbody>\n",
       "    <tr>\n",
       "      <th>0</th>\n",
       "      <td>Mac OS</td>\n",
       "      <td>desktop</td>\n",
       "      <td>desktop</td>\n",
       "      <td>True</td>\n",
       "    </tr>\n",
       "    <tr>\n",
       "      <th>1</th>\n",
       "      <td>iOS</td>\n",
       "      <td>mobile</td>\n",
       "      <td>mobile</td>\n",
       "      <td>True</td>\n",
       "    </tr>\n",
       "    <tr>\n",
       "      <th>2</th>\n",
       "      <td>Linux</td>\n",
       "      <td>desktop</td>\n",
       "      <td>desktop</td>\n",
       "      <td>True</td>\n",
       "    </tr>\n",
       "    <tr>\n",
       "      <th>3</th>\n",
       "      <td>Mac OS</td>\n",
       "      <td>desktop</td>\n",
       "      <td>desktop</td>\n",
       "      <td>True</td>\n",
       "    </tr>\n",
       "    <tr>\n",
       "      <th>4</th>\n",
       "      <td>iOS</td>\n",
       "      <td>mobile</td>\n",
       "      <td>mobile</td>\n",
       "      <td>True</td>\n",
       "    </tr>\n",
       "    <tr>\n",
       "      <th>5</th>\n",
       "      <td>iOS</td>\n",
       "      <td>mobile</td>\n",
       "      <td>mobile</td>\n",
       "      <td>True</td>\n",
       "    </tr>\n",
       "    <tr>\n",
       "      <th>6</th>\n",
       "      <td>Android</td>\n",
       "      <td>mobile</td>\n",
       "      <td>mobile</td>\n",
       "      <td>True</td>\n",
       "    </tr>\n",
       "  </tbody>\n",
       "</table>\n",
       "</div>"
      ],
      "text/plain": [
       "        OS category predicted_output  correct\n",
       "0   Mac OS  desktop          desktop     True\n",
       "1      iOS   mobile           mobile     True\n",
       "2    Linux  desktop          desktop     True\n",
       "3   Mac OS  desktop          desktop     True\n",
       "4      iOS   mobile           mobile     True\n",
       "5      iOS   mobile           mobile     True\n",
       "6  Android   mobile           mobile     True"
      ]
     },
     "execution_count": 44,
     "metadata": {},
     "output_type": "execute_result"
    }
   ],
   "source": [
    "final"
   ]
  },
  {
   "cell_type": "code",
   "execution_count": 45,
   "metadata": {
    "collapsed": true
   },
   "outputs": [],
   "source": [
    "x_test = pd.DataFrame()\n",
    "\n",
    "x_test['oui_dec'] = df_large.apply(lambda x: int(x['OUI'],16),axis=1)\n",
    "x_test['mac_hexa'] = df_large['mac_hexa']\n",
    "x_test['mac_wo_oui'] = df_large.apply(lambda x: int(x['mac_string'][6:],16),axis=1)\n",
    "x_test['mac_wo_oui_1'] = df_large.apply(lambda x: int(x['mac_string'][6:8],16),axis=1)\n",
    "x_test['mac_wo_oui_2'] = df_large.apply(lambda x: int(x['mac_string'][8:10],16),axis=1)\n",
    "x_test['mac_wo_oui_3'] = df_large.apply(lambda x: int(x['mac_string'][10:12],16),axis=1)\n",
    "\n",
    "bst = xgb.Booster(params)\n",
    "bst.load_model('xgb_model_unbalanced.mdl')\n",
    "\n",
    "d_test = xgb.DMatrix(x_test)\n",
    "p_test = bst.predict(d_test)"
   ]
  },
  {
   "cell_type": "markdown",
   "metadata": {},
   "source": [
    "### Conclusion\n",
    "The rebalanced model seems to work fine with unknown data. It needs to be further tested with larger unknown dataset."
   ]
  }
 ],
 "metadata": {
  "kernelspec": {
   "display_name": "Python 2",
   "language": "python",
   "name": "python2"
  },
  "language_info": {
   "codemirror_mode": {
    "name": "ipython",
    "version": 2
   },
   "file_extension": ".py",
   "mimetype": "text/x-python",
   "name": "python",
   "nbconvert_exporter": "python",
   "pygments_lexer": "ipython2",
   "version": "2.7.12"
  }
 },
 "nbformat": 4,
 "nbformat_minor": 2
}
